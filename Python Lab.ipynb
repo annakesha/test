{
 "cells": [
  {
   "cell_type": "markdown",
   "metadata": {},
   "source": [
    "# Python Activity -- Protein Calculations\n",
    "### Sophie Shoemaker 06/03/2019\n",
    "#### Python is a great coding language to learn with. But can be a bit daunting if you have never coded before. Below is an activity to give you some practice with the fundamentals of Python coding."
   ]
  },
  {
   "cell_type": "markdown",
   "metadata": {},
   "source": [
    "## Part 1 -- Protein molecular weight\n",
    "###### In this first part we will use write code to calculate the molecular weight of a sequence of amino acids"
   ]
  },
  {
   "cell_type": "code",
   "execution_count": 1,
   "metadata": {},
   "outputs": [],
   "source": [
    "# This is the sequence of my favorite protein, calmodulin. Let's determine it's molecular weight\n",
    "cam = \"MADQLTEEQIAEFKEAFSLFDKDGDGTITTKELGTVMRSLGQNPTEAELQDMINEVDADGNGTIDFPEFLTMMARKMKDTDSEEEIREAFRVFDKDGNGYISAAELRHVMTNLGEKLTDEEVDEMIREADIDGDGQVNYEEFVQMMTAK\""
   ]
  },
  {
   "cell_type": "code",
   "execution_count": 2,
   "metadata": {},
   "outputs": [],
   "source": [
    "#This is a dictionary of every amino acid and it's molecular weight. Note that these numbers are the average mass in Daltons.\n",
    "mws = {'A':71, 'R':156, 'N':114, 'D':115, 'C':103, 'E':129, 'Q':128, 'G': 57, 'H':137, 'I':113, 'L':113, 'K':128, 'M':131, 'F':147, 'P':97, 'S':87, 'T':101, 'W':186, 'Y':163, 'V':99}"
   ]
  },
  {
   "cell_type": "code",
   "execution_count": 3,
   "metadata": {},
   "outputs": [],
   "source": [
    "# Now write a piece of code to determine the molecular weight of calmodulin.\n",
    "# You will need to keep a running sum of the mass\n",
    "# There are many ways to do this, I would suggest using a for loop to loop over the characters in the sequence string\n",
    "# Note that this number will be slightly different from online reported numbers due to isotopically averaged molecular weights"
   ]
  },
  {
   "cell_type": "code",
   "execution_count": null,
   "metadata": {},
   "outputs": [],
   "source": []
  },
  {
   "cell_type": "code",
   "execution_count": 4,
   "metadata": {},
   "outputs": [],
   "source": [
    "# Google the molecular weight of calmodulin to see if your number is similar. \n",
    "# The number you calculated is in Dalton's unless you did a conversion"
   ]
  },
  {
   "cell_type": "code",
   "execution_count": 5,
   "metadata": {},
   "outputs": [],
   "source": [
    "#Now put this piece of code into the function below so you can use the function to calculate the molecular weight\n",
    "# of any protein WITHOUT rewriting this chunk of code"
   ]
  },
  {
   "cell_type": "code",
   "execution_count": 7,
   "metadata": {},
   "outputs": [],
   "source": [
    "def molecular_weight(seq):\n",
    "    ## YOUR CODE HERE\n",
    "    return mass "
   ]
  },
  {
   "cell_type": "markdown",
   "metadata": {},
   "source": [
    "## Part 2 -- Amino Acid Frequency\n",
    "###### In this second part you will write a function to calculate the frequency of an amino acid in a peptide string"
   ]
  },
  {
   "cell_type": "code",
   "execution_count": 7,
   "metadata": {},
   "outputs": [],
   "source": [
    "# First let's write a function that tells us the number of a certain amino acid in a string\n",
    "# I will give you the function heading, you can fill in the rest\n",
    "# There are multiple ways to accomplish this. One way is a single line! But other solutions are acceptable as well"
   ]
  },
  {
   "cell_type": "code",
   "execution_count": 8,
   "metadata": {},
   "outputs": [
    {
     "ename": "SyntaxError",
     "evalue": "unexpected EOF while parsing (<ipython-input-8-8a3d53b1a570>, line 3)",
     "output_type": "error",
     "traceback": [
      "\u001b[0;36m  File \u001b[0;32m\"<ipython-input-8-8a3d53b1a570>\"\u001b[0;36m, line \u001b[0;32m3\u001b[0m\n\u001b[0;31m    \u001b[0m\n\u001b[0m    ^\u001b[0m\n\u001b[0;31mSyntaxError\u001b[0m\u001b[0;31m:\u001b[0m unexpected EOF while parsing\n"
     ]
    }
   ],
   "source": [
    "def am_count(seq, aa):\n",
    "    # Your code here\n",
    "    \n"
   ]
  },
  {
   "cell_type": "code",
   "execution_count": 9,
   "metadata": {},
   "outputs": [],
   "source": [
    "# Test your function by calculating (and printing) the number of alanines in calmodulin, the answer should be 11\n"
   ]
  },
  {
   "cell_type": "code",
   "execution_count": 11,
   "metadata": {},
   "outputs": [],
   "source": [
    "# Now let's write a function to determine the frequency of a amino acid in a sequence\n",
    "# Frequency is the count of an amino acid divided by the length of the sequence\n",
    "# There are multiple ways to do this. You could even use the function we already wrote above"
   ]
  },
  {
   "cell_type": "code",
   "execution_count": 10,
   "metadata": {},
   "outputs": [],
   "source": [
    "## Your code here\n"
   ]
  },
  {
   "cell_type": "code",
   "execution_count": 11,
   "metadata": {},
   "outputs": [],
   "source": [
    "# Test your function by finding the frequency of alanines, the answer should be 0.074 ish\n"
   ]
  },
  {
   "cell_type": "code",
   "execution_count": 12,
   "metadata": {},
   "outputs": [],
   "source": [
    "# Finally let's write a function that returns the frequency of aromatic amino acids in the protein\n",
    "# Reminder: The aromatic amino acids are Tryptophan (W), Tyrosine (Y), and Phenylalanine (F)"
   ]
  },
  {
   "cell_type": "code",
   "execution_count": null,
   "metadata": {},
   "outputs": [],
   "source": []
  },
  {
   "cell_type": "code",
   "execution_count": 13,
   "metadata": {},
   "outputs": [],
   "source": [
    "# What is the frequency of aromatic amino acids? I calculated 0.067\n"
   ]
  },
  {
   "cell_type": "code",
   "execution_count": 17,
   "metadata": {},
   "outputs": [],
   "source": [
    "# Write a function that creates a dictionary with all of the amino acids as keys\n",
    "# And the COUNT of the amino acids as the values\n",
    "# Note that calmodulin DOES NOT contain every amino acid so find a way to get around this hiccup\n",
    "# All of the one letter codes of all of the amino acids are: ARNDCEQGHILKMFPSTWYV\n"
   ]
  },
  {
   "cell_type": "code",
   "execution_count": null,
   "metadata": {},
   "outputs": [],
   "source": []
  },
  {
   "cell_type": "code",
   "execution_count": 14,
   "metadata": {},
   "outputs": [],
   "source": [
    "# Now call your function with the cam sequence and print the dictionary"
   ]
  },
  {
   "cell_type": "code",
   "execution_count": null,
   "metadata": {},
   "outputs": [],
   "source": []
  },
  {
   "cell_type": "markdown",
   "metadata": {},
   "source": [
    "# Part 3\n",
    "###### Now let's read in some protein sequences and calculate statistics about them"
   ]
  },
  {
   "cell_type": "code",
   "execution_count": 21,
   "metadata": {},
   "outputs": [],
   "source": [
    "#The file 1aus.fasta contains the sequence of another great (but very inefficient) protein Rubisco!\n",
    "# Open the file and read in the lines"
   ]
  },
  {
   "cell_type": "code",
   "execution_count": null,
   "metadata": {},
   "outputs": [],
   "source": []
  },
  {
   "cell_type": "code",
   "execution_count": 15,
   "metadata": {},
   "outputs": [],
   "source": [
    "# Take a look at the imported file. How many lines are in the file? Which line is the sequence?"
   ]
  },
  {
   "cell_type": "code",
   "execution_count": null,
   "metadata": {},
   "outputs": [],
   "source": []
  },
  {
   "cell_type": "code",
   "execution_count": 25,
   "metadata": {},
   "outputs": [],
   "source": [
    "#Assign the protein sequence to a variable. Make sure to remove the newline character (\\n)"
   ]
  },
  {
   "cell_type": "code",
   "execution_count": null,
   "metadata": {},
   "outputs": [],
   "source": []
  },
  {
   "cell_type": "code",
   "execution_count": 16,
   "metadata": {},
   "outputs": [],
   "source": [
    "# Calculate the molecular weight of rubisco and create a count dictionary like you did before (you can copy code from above)\n",
    "# Print the molecular weight with 2 decimal places\n",
    "# Print the count of each amino acid in the following format \"The frecountquency of A is 11\" Make the counts align in the last decimal place"
   ]
  },
  {
   "cell_type": "code",
   "execution_count": null,
   "metadata": {},
   "outputs": [],
   "source": []
  },
  {
   "cell_type": "code",
   "execution_count": null,
   "metadata": {},
   "outputs": [],
   "source": []
  },
  {
   "cell_type": "code",
   "execution_count": null,
   "metadata": {},
   "outputs": [],
   "source": []
  },
  {
   "cell_type": "code",
   "execution_count": 49,
   "metadata": {},
   "outputs": [],
   "source": [
    "# Determine what the most common amino acid in rubisco is and print a statement that tells the user both what the most common amino acid is and the count of this amino acid"
   ]
  },
  {
   "cell_type": "code",
   "execution_count": null,
   "metadata": {},
   "outputs": [],
   "source": []
  },
  {
   "cell_type": "markdown",
   "metadata": {},
   "source": [
    "# Part 4 -- One mega-function"
   ]
  },
  {
   "cell_type": "markdown",
   "metadata": {},
   "source": [
    "## Write a function that takes a fasta filename, reads in file, does some calculations and then writes out a file that contains the proteins PDB id, the molecular weight of the protein, the counts of the amino acids and the most common amino acid. You should be able to use lots of the code you wrote above to make a neat little function.\n",
    "## When you're done test this on 1gfl.fasta. Name your output file \"filename\".out (ex 1gfl.fasta.out)\n",
    "## Hint: Don't forget newline characters"
   ]
  },
  {
   "cell_type": "code",
   "execution_count": null,
   "metadata": {},
   "outputs": [],
   "source": []
  },
  {
   "cell_type": "code",
   "execution_count": null,
   "metadata": {},
   "outputs": [],
   "source": []
  },
  {
   "cell_type": "code",
   "execution_count": null,
   "metadata": {},
   "outputs": [],
   "source": []
  }
 ],
 "metadata": {
  "kernelspec": {
   "display_name": "Python [conda env:pyrosetta] *",
   "language": "python",
   "name": "conda-env-pyrosetta-py"
  },
  "language_info": {
   "codemirror_mode": {
    "name": "ipython",
    "version": 3
   },
   "file_extension": ".py",
   "mimetype": "text/x-python",
   "name": "python",
   "nbconvert_exporter": "python",
   "pygments_lexer": "ipython3",
   "version": "3.6.8"
  }
 },
 "nbformat": 4,
 "nbformat_minor": 2
}
